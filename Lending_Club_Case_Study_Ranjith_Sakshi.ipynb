{
 "cells": [
  {
   "cell_type": "markdown",
   "id": "2c58076b-0986-4fe4-b33e-d0173114f7a2",
   "metadata": {},
   "source": [
    "# Lending Club Case Study\n"
   ]
  },
  {
   "cell_type": "markdown",
   "id": "1e18a0d8-82d0-4d39-a7b6-1591c5ff09f2",
   "metadata": {},
   "source": [
    "## *Data Cleaning and Manipulation*"
   ]
  },
  {
   "cell_type": "markdown",
   "id": "62ae0f50-fbb2-4662-8be8-431e50df85e2",
   "metadata": {},
   "source": [
    "## Library Imports"
   ]
  },
  {
   "cell_type": "code",
   "execution_count": 4,
   "id": "28cf9d0a-8f2f-4e2d-8506-78934cef3d7a",
   "metadata": {},
   "outputs": [],
   "source": [
    "import numpy as np\n",
    "import pandas as pd\n",
    "import matplotlib.pyplot as plot"
   ]
  },
  {
   "cell_type": "markdown",
   "id": "c27c54a3-6f5d-4a7f-8226-cf0dddf3ad0b",
   "metadata": {},
   "source": [
    "### Load data from CSV"
   ]
  },
  {
   "cell_type": "code",
   "execution_count": 6,
   "id": "51f76733-496b-429c-9d50-3dfc275633da",
   "metadata": {},
   "outputs": [
    {
     "data": {
      "text/html": [
       "<div>\n",
       "<style scoped>\n",
       "    .dataframe tbody tr th:only-of-type {\n",
       "        vertical-align: middle;\n",
       "    }\n",
       "\n",
       "    .dataframe tbody tr th {\n",
       "        vertical-align: top;\n",
       "    }\n",
       "\n",
       "    .dataframe thead th {\n",
       "        text-align: right;\n",
       "    }\n",
       "</style>\n",
       "<table border=\"1\" class=\"dataframe\">\n",
       "  <thead>\n",
       "    <tr style=\"text-align: right;\">\n",
       "      <th></th>\n",
       "      <th>id</th>\n",
       "      <th>member_id</th>\n",
       "      <th>loan_amnt</th>\n",
       "      <th>funded_amnt</th>\n",
       "      <th>funded_amnt_inv</th>\n",
       "      <th>term</th>\n",
       "      <th>int_rate</th>\n",
       "      <th>installment</th>\n",
       "      <th>grade</th>\n",
       "      <th>sub_grade</th>\n",
       "      <th>...</th>\n",
       "      <th>num_tl_90g_dpd_24m</th>\n",
       "      <th>num_tl_op_past_12m</th>\n",
       "      <th>pct_tl_nvr_dlq</th>\n",
       "      <th>percent_bc_gt_75</th>\n",
       "      <th>pub_rec_bankruptcies</th>\n",
       "      <th>tax_liens</th>\n",
       "      <th>tot_hi_cred_lim</th>\n",
       "      <th>total_bal_ex_mort</th>\n",
       "      <th>total_bc_limit</th>\n",
       "      <th>total_il_high_credit_limit</th>\n",
       "    </tr>\n",
       "  </thead>\n",
       "  <tbody>\n",
       "    <tr>\n",
       "      <th>0</th>\n",
       "      <td>1077501</td>\n",
       "      <td>1296599</td>\n",
       "      <td>5000</td>\n",
       "      <td>5000</td>\n",
       "      <td>4975.0</td>\n",
       "      <td>36 months</td>\n",
       "      <td>10.65%</td>\n",
       "      <td>162.87</td>\n",
       "      <td>B</td>\n",
       "      <td>B2</td>\n",
       "      <td>...</td>\n",
       "      <td>NaN</td>\n",
       "      <td>NaN</td>\n",
       "      <td>NaN</td>\n",
       "      <td>NaN</td>\n",
       "      <td>0.0</td>\n",
       "      <td>0.0</td>\n",
       "      <td>NaN</td>\n",
       "      <td>NaN</td>\n",
       "      <td>NaN</td>\n",
       "      <td>NaN</td>\n",
       "    </tr>\n",
       "    <tr>\n",
       "      <th>1</th>\n",
       "      <td>1077430</td>\n",
       "      <td>1314167</td>\n",
       "      <td>2500</td>\n",
       "      <td>2500</td>\n",
       "      <td>2500.0</td>\n",
       "      <td>60 months</td>\n",
       "      <td>15.27%</td>\n",
       "      <td>59.83</td>\n",
       "      <td>C</td>\n",
       "      <td>C4</td>\n",
       "      <td>...</td>\n",
       "      <td>NaN</td>\n",
       "      <td>NaN</td>\n",
       "      <td>NaN</td>\n",
       "      <td>NaN</td>\n",
       "      <td>0.0</td>\n",
       "      <td>0.0</td>\n",
       "      <td>NaN</td>\n",
       "      <td>NaN</td>\n",
       "      <td>NaN</td>\n",
       "      <td>NaN</td>\n",
       "    </tr>\n",
       "    <tr>\n",
       "      <th>2</th>\n",
       "      <td>1077175</td>\n",
       "      <td>1313524</td>\n",
       "      <td>2400</td>\n",
       "      <td>2400</td>\n",
       "      <td>2400.0</td>\n",
       "      <td>36 months</td>\n",
       "      <td>15.96%</td>\n",
       "      <td>84.33</td>\n",
       "      <td>C</td>\n",
       "      <td>C5</td>\n",
       "      <td>...</td>\n",
       "      <td>NaN</td>\n",
       "      <td>NaN</td>\n",
       "      <td>NaN</td>\n",
       "      <td>NaN</td>\n",
       "      <td>0.0</td>\n",
       "      <td>0.0</td>\n",
       "      <td>NaN</td>\n",
       "      <td>NaN</td>\n",
       "      <td>NaN</td>\n",
       "      <td>NaN</td>\n",
       "    </tr>\n",
       "    <tr>\n",
       "      <th>3</th>\n",
       "      <td>1076863</td>\n",
       "      <td>1277178</td>\n",
       "      <td>10000</td>\n",
       "      <td>10000</td>\n",
       "      <td>10000.0</td>\n",
       "      <td>36 months</td>\n",
       "      <td>13.49%</td>\n",
       "      <td>339.31</td>\n",
       "      <td>C</td>\n",
       "      <td>C1</td>\n",
       "      <td>...</td>\n",
       "      <td>NaN</td>\n",
       "      <td>NaN</td>\n",
       "      <td>NaN</td>\n",
       "      <td>NaN</td>\n",
       "      <td>0.0</td>\n",
       "      <td>0.0</td>\n",
       "      <td>NaN</td>\n",
       "      <td>NaN</td>\n",
       "      <td>NaN</td>\n",
       "      <td>NaN</td>\n",
       "    </tr>\n",
       "    <tr>\n",
       "      <th>4</th>\n",
       "      <td>1075358</td>\n",
       "      <td>1311748</td>\n",
       "      <td>3000</td>\n",
       "      <td>3000</td>\n",
       "      <td>3000.0</td>\n",
       "      <td>60 months</td>\n",
       "      <td>12.69%</td>\n",
       "      <td>67.79</td>\n",
       "      <td>B</td>\n",
       "      <td>B5</td>\n",
       "      <td>...</td>\n",
       "      <td>NaN</td>\n",
       "      <td>NaN</td>\n",
       "      <td>NaN</td>\n",
       "      <td>NaN</td>\n",
       "      <td>0.0</td>\n",
       "      <td>0.0</td>\n",
       "      <td>NaN</td>\n",
       "      <td>NaN</td>\n",
       "      <td>NaN</td>\n",
       "      <td>NaN</td>\n",
       "    </tr>\n",
       "  </tbody>\n",
       "</table>\n",
       "<p>5 rows × 111 columns</p>\n",
       "</div>"
      ],
      "text/plain": [
       "        id  member_id  loan_amnt  funded_amnt  funded_amnt_inv        term  \\\n",
       "0  1077501    1296599       5000         5000           4975.0   36 months   \n",
       "1  1077430    1314167       2500         2500           2500.0   60 months   \n",
       "2  1077175    1313524       2400         2400           2400.0   36 months   \n",
       "3  1076863    1277178      10000        10000          10000.0   36 months   \n",
       "4  1075358    1311748       3000         3000           3000.0   60 months   \n",
       "\n",
       "  int_rate  installment grade sub_grade  ... num_tl_90g_dpd_24m  \\\n",
       "0   10.65%       162.87     B        B2  ...                NaN   \n",
       "1   15.27%        59.83     C        C4  ...                NaN   \n",
       "2   15.96%        84.33     C        C5  ...                NaN   \n",
       "3   13.49%       339.31     C        C1  ...                NaN   \n",
       "4   12.69%        67.79     B        B5  ...                NaN   \n",
       "\n",
       "  num_tl_op_past_12m pct_tl_nvr_dlq  percent_bc_gt_75 pub_rec_bankruptcies  \\\n",
       "0                NaN            NaN               NaN                  0.0   \n",
       "1                NaN            NaN               NaN                  0.0   \n",
       "2                NaN            NaN               NaN                  0.0   \n",
       "3                NaN            NaN               NaN                  0.0   \n",
       "4                NaN            NaN               NaN                  0.0   \n",
       "\n",
       "  tax_liens tot_hi_cred_lim total_bal_ex_mort total_bc_limit  \\\n",
       "0       0.0             NaN               NaN            NaN   \n",
       "1       0.0             NaN               NaN            NaN   \n",
       "2       0.0             NaN               NaN            NaN   \n",
       "3       0.0             NaN               NaN            NaN   \n",
       "4       0.0             NaN               NaN            NaN   \n",
       "\n",
       "  total_il_high_credit_limit  \n",
       "0                        NaN  \n",
       "1                        NaN  \n",
       "2                        NaN  \n",
       "3                        NaN  \n",
       "4                        NaN  \n",
       "\n",
       "[5 rows x 111 columns]"
      ]
     },
     "execution_count": 6,
     "metadata": {},
     "output_type": "execute_result"
    }
   ],
   "source": [
    "loan = pd.read_csv('C:\\Ranjith\\Project\\Machine_Learning_AI_upgrad\\Lending_Case_Study\\loan.csv', low_memory=False)\n",
    "loan.head()"
   ]
  },
  {
   "cell_type": "markdown",
   "id": "03df072c-1941-4a20-951b-f769c8f932f5",
   "metadata": {},
   "source": [
    "### Find and drop off columns which are of same value throughout the entire rows"
   ]
  },
  {
   "cell_type": "code",
   "execution_count": 8,
   "id": "cca9f350-fc6e-427a-a45b-07498c0ed9da",
   "metadata": {},
   "outputs": [
    {
     "name": "stdout",
     "output_type": "stream",
     "text": [
      "['pymnt_plan', 'initial_list_status', 'collections_12_mths_ex_med', 'mths_since_last_major_derog', 'policy_code', 'application_type', 'annual_inc_joint', 'dti_joint', 'verification_status_joint', 'acc_now_delinq', 'tot_coll_amt', 'tot_cur_bal', 'open_acc_6m', 'open_il_6m', 'open_il_12m', 'open_il_24m', 'mths_since_rcnt_il', 'total_bal_il', 'il_util', 'open_rv_12m', 'open_rv_24m', 'max_bal_bc', 'all_util', 'total_rev_hi_lim', 'inq_fi', 'total_cu_tl', 'inq_last_12m', 'acc_open_past_24mths', 'avg_cur_bal', 'bc_open_to_buy', 'bc_util', 'chargeoff_within_12_mths', 'delinq_amnt', 'mo_sin_old_il_acct', 'mo_sin_old_rev_tl_op', 'mo_sin_rcnt_rev_tl_op', 'mo_sin_rcnt_tl', 'mort_acc', 'mths_since_recent_bc', 'mths_since_recent_bc_dlq', 'mths_since_recent_inq', 'mths_since_recent_revol_delinq', 'num_accts_ever_120_pd', 'num_actv_bc_tl', 'num_actv_rev_tl', 'num_bc_sats', 'num_bc_tl', 'num_il_tl', 'num_op_rev_tl', 'num_rev_accts', 'num_rev_tl_bal_gt_0', 'num_sats', 'num_tl_120dpd_2m', 'num_tl_30dpd', 'num_tl_90g_dpd_24m', 'num_tl_op_past_12m', 'pct_tl_nvr_dlq', 'percent_bc_gt_75', 'tax_liens', 'tot_hi_cred_lim', 'total_bal_ex_mort', 'total_bc_limit', 'total_il_high_credit_limit']\n",
      "Total number of columns whch are of same value across all rows be it NA,NAN,0,1,INDIVIDUAL :  63\n"
     ]
    },
    {
     "data": {
      "text/plain": [
       "(39717, 48)"
      ]
     },
     "execution_count": 8,
     "metadata": {},
     "output_type": "execute_result"
    }
   ],
   "source": [
    "same_value_columns = loan.columns[loan.nunique()<=1].tolist()\n",
    "print(same_value_columns)\n",
    "null_columns_len=len(same_value_columns)\n",
    "print('Total number of columns whch are of same value across all rows be it NA,NAN,0,1,INDIVIDUAL : ', null_columns_len)\n",
    "loan.drop(columns=same_value_columns, inplace=True)\n",
    "#print(loan)\n",
    "loan.shape"
   ]
  },
  {
   "cell_type": "code",
   "execution_count": 9,
   "id": "41b32801-fe42-49dc-9b5f-00a3de48f30a",
   "metadata": {},
   "outputs": [
    {
     "name": "stdout",
     "output_type": "stream",
     "text": [
      "\n",
      "Number of duplicate rows: 0\n"
     ]
    },
    {
     "data": {
      "text/plain": [
       "(39717, 48)"
      ]
     },
     "execution_count": 9,
     "metadata": {},
     "output_type": "execute_result"
    }
   ],
   "source": [
    "#Find duplicate rows\n",
    "duplicates=loan.duplicated()\n",
    "#Coumnt duplicate rows\n",
    "total_duplicate_rows=duplicates.sum()\n",
    "# Display the number of duplicate rows\n",
    "print(\"\\nNumber of duplicate rows:\", total_duplicate_rows)\n",
    "# Drop duplicate rows if any\n",
    "loan.drop_duplicates(inplace=True)\n",
    "loan.shape"
   ]
  },
  {
   "cell_type": "markdown",
   "id": "21e32598-ebeb-4230-98a8-109c77424ed0",
   "metadata": {},
   "source": [
    "#### Find number of rows which has loan status as Current which means the loan installment is still in progress and drop such rows"
   ]
  },
  {
   "cell_type": "code",
   "execution_count": 11,
   "id": "c8c476ad-b7a0-4b82-ada4-df5fcb8ff19d",
   "metadata": {},
   "outputs": [
    {
     "name": "stdout",
     "output_type": "stream",
     "text": [
      "\n",
      " Number of rows with loan status as Current : 1140\n"
     ]
    },
    {
     "data": {
      "text/plain": [
       "(38577, 48)"
      ]
     },
     "execution_count": 11,
     "metadata": {},
     "output_type": "execute_result"
    }
   ],
   "source": [
    "\n",
    "Current_loan_rows=loan[loan['loan_status']=='Current']\n",
    "print(\"\\n Number of rows with loan status as Current :\",len(Current_loan_rows))\n",
    "loan.drop(Current_loan_rows.index,inplace=True)\n",
    "\n",
    "loan.shape"
   ]
  },
  {
   "cell_type": "code",
   "execution_count": 12,
   "id": "853f3915-9b31-4e47-92b0-458932a355ee",
   "metadata": {},
   "outputs": [
    {
     "name": "stdout",
     "output_type": "stream",
     "text": [
      "['id', 'member_id', 'emp_title', 'issue_d', 'url', 'desc', 'title', 'zip_code', 'addr_state']\n",
      "       loan_amnt  funded_amnt  funded_amnt_inv        term int_rate  \\\n",
      "0           5000         5000           4975.0   36 months   10.65%   \n",
      "1           2500         2500           2500.0   60 months   15.27%   \n",
      "2           2400         2400           2400.0   36 months   15.96%   \n",
      "3          10000        10000          10000.0   36 months   13.49%   \n",
      "5           5000         5000           5000.0   36 months    7.90%   \n",
      "...          ...          ...              ...         ...      ...   \n",
      "39712       2500         2500           1075.0   36 months    8.07%   \n",
      "39713       8500         8500            875.0   36 months   10.28%   \n",
      "39714       5000         5000           1325.0   36 months    8.07%   \n",
      "39715       5000         5000            650.0   36 months    7.43%   \n",
      "39716       7500         7500            800.0   36 months   13.75%   \n",
      "\n",
      "       installment grade sub_grade emp_length home_ownership  ...  \\\n",
      "0           162.87     B        B2  10+ years           RENT  ...   \n",
      "1            59.83     C        C4   < 1 year           RENT  ...   \n",
      "2            84.33     C        C5  10+ years           RENT  ...   \n",
      "3           339.31     C        C1  10+ years           RENT  ...   \n",
      "5           156.46     A        A4    3 years           RENT  ...   \n",
      "...            ...   ...       ...        ...            ...  ...   \n",
      "39712        78.42     A        A4    4 years       MORTGAGE  ...   \n",
      "39713       275.38     C        C1    3 years           RENT  ...   \n",
      "39714       156.84     A        A4   < 1 year       MORTGAGE  ...   \n",
      "39715       155.38     A        A2   < 1 year       MORTGAGE  ...   \n",
      "39716       255.43     E        E2   < 1 year            OWN  ...   \n",
      "\n",
      "       total_rec_prncp total_rec_int total_rec_late_fee recoveries  \\\n",
      "0              5000.00        863.16               0.00       0.00   \n",
      "1               456.46        435.17               0.00     117.08   \n",
      "2              2400.00        605.67               0.00       0.00   \n",
      "3             10000.00       2214.92              16.97       0.00   \n",
      "5              5000.00        632.21               0.00       0.00   \n",
      "...                ...           ...                ...        ...   \n",
      "39712          2500.00        322.97               0.00       0.00   \n",
      "39713          8500.00       1413.49               0.00       0.00   \n",
      "39714          5000.00        272.16               0.00       0.00   \n",
      "39715          5000.00        174.20               0.00       0.00   \n",
      "39716          7500.00       1695.26               0.00       0.00   \n",
      "\n",
      "       collection_recovery_fee  last_pymnt_d last_pymnt_amnt  next_pymnt_d  \\\n",
      "0                         0.00        Jan-15          171.62           NaN   \n",
      "1                         1.11        Apr-13          119.66           NaN   \n",
      "2                         0.00        Jun-14          649.91           NaN   \n",
      "3                         0.00        Jan-15          357.48           NaN   \n",
      "5                         0.00        Jan-15          161.03           NaN   \n",
      "...                        ...           ...             ...           ...   \n",
      "39712                     0.00        Jul-10           80.90           NaN   \n",
      "39713                     0.00        Jul-10          281.94           NaN   \n",
      "39714                     0.00        Apr-08            0.00           NaN   \n",
      "39715                     0.00        Jan-08            0.00           NaN   \n",
      "39716                     0.00        Jun-10          256.59           NaN   \n",
      "\n",
      "       last_credit_pull_d  pub_rec_bankruptcies  \n",
      "0                  May-16                   0.0  \n",
      "1                  Sep-13                   0.0  \n",
      "2                  May-16                   0.0  \n",
      "3                  Apr-16                   0.0  \n",
      "5                  Jan-16                   0.0  \n",
      "...                   ...                   ...  \n",
      "39712              Jun-10                   NaN  \n",
      "39713              Jul-10                   NaN  \n",
      "39714              Jun-07                   NaN  \n",
      "39715              Jun-07                   NaN  \n",
      "39716              Jun-10                   NaN  \n",
      "\n",
      "[38577 rows x 39 columns]\n"
     ]
    }
   ],
   "source": [
    "# data related to id,member_id,emp_title,issue_d,url,desc,title,zip_code,addr_state dont add value\n",
    "#print(loan)\n",
    "remove_columns=['id','member_id', \n",
    "                          'emp_title', 'issue_d', \n",
    "                          'url', 'desc',\n",
    "                          'title', 'zip_code', 'addr_state']\n",
    "removed_columns=list(remove_columns)\n",
    "#print(removed_columns)\n",
    "loan.drop(columns=removed_columns,inplace=True)\n",
    "loan.shape\n",
    "#print(loan)"
   ]
  },
  {
   "cell_type": "code",
   "execution_count": 13,
   "id": "6963fe78-6ae1-48c6-bd24-261c4d41cf41",
   "metadata": {},
   "outputs": [
    {
     "name": "stdout",
     "output_type": "stream",
     "text": [
      "       loan_amnt  funded_amnt  funded_amnt_inv        term int_rate  \\\n",
      "0           5000         5000           4975.0   36 months   10.65%   \n",
      "1           2500         2500           2500.0   60 months   15.27%   \n",
      "2           2400         2400           2400.0   36 months   15.96%   \n",
      "3          10000        10000          10000.0   36 months   13.49%   \n",
      "5           5000         5000           5000.0   36 months    7.90%   \n",
      "...          ...          ...              ...         ...      ...   \n",
      "39712       2500         2500           1075.0   36 months    8.07%   \n",
      "39713       8500         8500            875.0   36 months   10.28%   \n",
      "39714       5000         5000           1325.0   36 months    8.07%   \n",
      "39715       5000         5000            650.0   36 months    7.43%   \n",
      "39716       7500         7500            800.0   36 months   13.75%   \n",
      "\n",
      "       installment grade sub_grade emp_length home_ownership  annual_inc  \\\n",
      "0           162.87     B        B2  10+ years           RENT     24000.0   \n",
      "1            59.83     C        C4   < 1 year           RENT     30000.0   \n",
      "2            84.33     C        C5  10+ years           RENT     12252.0   \n",
      "3           339.31     C        C1  10+ years           RENT     49200.0   \n",
      "5           156.46     A        A4    3 years           RENT     36000.0   \n",
      "...            ...   ...       ...        ...            ...         ...   \n",
      "39712        78.42     A        A4    4 years       MORTGAGE    110000.0   \n",
      "39713       275.38     C        C1    3 years           RENT     18000.0   \n",
      "39714       156.84     A        A4   < 1 year       MORTGAGE    100000.0   \n",
      "39715       155.38     A        A2   < 1 year       MORTGAGE    200000.0   \n",
      "39716       255.43     E        E2   < 1 year            OWN     22000.0   \n",
      "\n",
      "      verification_status  loan_status             purpose    dti  \\\n",
      "0                Verified   Fully Paid         credit_card  27.65   \n",
      "1         Source Verified  Charged Off                 car   1.00   \n",
      "2            Not Verified   Fully Paid      small_business   8.72   \n",
      "3         Source Verified   Fully Paid               other  20.00   \n",
      "5         Source Verified   Fully Paid             wedding  11.20   \n",
      "...                   ...          ...                 ...    ...   \n",
      "39712        Not Verified   Fully Paid    home_improvement  11.33   \n",
      "39713        Not Verified   Fully Paid         credit_card   6.40   \n",
      "39714        Not Verified   Fully Paid  debt_consolidation   2.30   \n",
      "39715        Not Verified   Fully Paid               other   3.72   \n",
      "39716        Not Verified   Fully Paid  debt_consolidation  14.29   \n",
      "\n",
      "       mths_since_last_delinq  open_acc revol_util  total_acc  \\\n",
      "0                         NaN         3     83.70%          9   \n",
      "1                         NaN         3      9.40%          4   \n",
      "2                         NaN         2     98.50%         10   \n",
      "3                        35.0        10        21%         37   \n",
      "5                         NaN         9     28.30%         12   \n",
      "...                       ...       ...        ...        ...   \n",
      "39712                     0.0        13     13.10%         40   \n",
      "39713                     5.0         6     26.90%          9   \n",
      "39714                     0.0        11     19.40%         20   \n",
      "39715                     0.0        17      0.70%         26   \n",
      "39716                    11.0         7     51.50%          8   \n",
      "\n",
      "       pub_rec_bankruptcies  \n",
      "0                       0.0  \n",
      "1                       0.0  \n",
      "2                       0.0  \n",
      "3                       0.0  \n",
      "5                       0.0  \n",
      "...                     ...  \n",
      "39712                   NaN  \n",
      "39713                   NaN  \n",
      "39714                   NaN  \n",
      "39715                   NaN  \n",
      "39716                   NaN  \n",
      "\n",
      "[38577 rows x 20 columns]\n"
     ]
    }
   ],
   "source": [
    "# Certain column data doesnt add value to data analysis hence can be dropped\n",
    "remove_columns=['delinq_2yrs', 'earliest_cr_line', \n",
    "                          'inq_last_6mths', 'pub_rec', \n",
    "                          'revol_bal', \n",
    "                          'out_prncp', 'out_prncp_inv', 'total_pymnt', \n",
    "                          'total_pymnt_inv', 'total_rec_prncp', \n",
    "                          'total_rec_int', 'total_rec_late_fee', 'recoveries', \n",
    "                          'collection_recovery_fee', 'last_pymnt_d', \n",
    "                          'last_pymnt_amnt', 'last_credit_pull_d','next_pymnt_d','mths_since_last_record'\n",
    "\n",
    "                          ]\n",
    "removed_columns=list(remove_columns)\n",
    "loan.drop(columns=removed_columns,  inplace=True)\n",
    "loan.shape\n",
    "print(loan)"
   ]
  },
  {
   "cell_type": "code",
   "execution_count": 14,
   "id": "2e371973-b782-46c9-8b07-c8f56e9caf6a",
   "metadata": {},
   "outputs": [
    {
     "data": {
      "text/plain": [
       "['loan_amnt',\n",
       " 'funded_amnt',\n",
       " 'funded_amnt_inv',\n",
       " 'term',\n",
       " 'int_rate',\n",
       " 'installment',\n",
       " 'grade',\n",
       " 'sub_grade',\n",
       " 'emp_length',\n",
       " 'home_ownership',\n",
       " 'annual_inc',\n",
       " 'verification_status',\n",
       " 'loan_status',\n",
       " 'purpose',\n",
       " 'dti',\n",
       " 'mths_since_last_delinq',\n",
       " 'open_acc',\n",
       " 'revol_util',\n",
       " 'total_acc',\n",
       " 'pub_rec_bankruptcies']"
      ]
     },
     "execution_count": 14,
     "metadata": {},
     "output_type": "execute_result"
    }
   ],
   "source": [
    "loan.columns.tolist()"
   ]
  },
  {
   "cell_type": "code",
   "execution_count": 15,
   "id": "09e410b4-c68b-4aaf-ac98-04261c301f72",
   "metadata": {},
   "outputs": [
    {
     "data": {
      "text/plain": [
       "20"
      ]
     },
     "execution_count": 15,
     "metadata": {},
     "output_type": "execute_result"
    }
   ],
   "source": [
    "len(loan.columns.tolist())"
   ]
  },
  {
   "cell_type": "code",
   "execution_count": 16,
   "id": "3f9c0452-21f0-445f-900c-982e43219bca",
   "metadata": {},
   "outputs": [
    {
     "name": "stdout",
     "output_type": "stream",
     "text": [
      "\n",
      " Dropping Column since its majority of values are NA : mths_since_last_delinq\n"
     ]
    },
    {
     "data": {
      "text/plain": [
       "(38577, 19)"
      ]
     },
     "execution_count": 16,
     "metadata": {},
     "output_type": "execute_result"
    }
   ],
   "source": [
    "#Dropping columns with majority of rows being the NULL values which doesnt help in Data Analysis\n",
    "for col in loan.columns:\n",
    "    missing_values = round(loan[col].isna().sum() / loan.shape[0], 2)\n",
    "    if missing_values >= 0.50:\n",
    "        loan.drop(col, axis = 1, inplace = True)\n",
    "        print(\"\\n Dropping Column since its majority of values are NA :\",col)\n",
    "        \n",
    "loan.shape"
   ]
  },
  {
   "cell_type": "code",
   "execution_count": 18,
   "id": "64480722-2863-4f1e-83d3-04db868c7261",
   "metadata": {},
   "outputs": [
    {
     "ename": "AttributeError",
     "evalue": "'int' object has no attribute 'replace'",
     "output_type": "error",
     "traceback": [
      "\u001b[1;31m---------------------------------------------------------------------------\u001b[0m",
      "\u001b[1;31mAttributeError\u001b[0m                            Traceback (most recent call last)",
      "Cell \u001b[1;32mIn[18], line 10\u001b[0m\n\u001b[0;32m      2\u001b[0m loan \u001b[38;5;241m=\u001b[39m loan\u001b[38;5;241m.\u001b[39mastype({\n\u001b[0;32m      3\u001b[0m     \u001b[38;5;124m'\u001b[39m\u001b[38;5;124mdti\u001b[39m\u001b[38;5;124m'\u001b[39m: \u001b[38;5;124m'\u001b[39m\u001b[38;5;124mfloat\u001b[39m\u001b[38;5;124m'\u001b[39m,\n\u001b[0;32m      4\u001b[0m     \u001b[38;5;124m'\u001b[39m\u001b[38;5;124mfunded_amnt\u001b[39m\u001b[38;5;124m'\u001b[39m : \u001b[38;5;124m'\u001b[39m\u001b[38;5;124mfloat\u001b[39m\u001b[38;5;124m'\u001b[39m,\n\u001b[0;32m      5\u001b[0m     \u001b[38;5;124m'\u001b[39m\u001b[38;5;124mfunded_amnt_inv\u001b[39m\u001b[38;5;124m'\u001b[39m : \u001b[38;5;124m'\u001b[39m\u001b[38;5;124mfloat\u001b[39m\u001b[38;5;124m'\u001b[39m,\n\u001b[0;32m      6\u001b[0m     \u001b[38;5;124m'\u001b[39m\u001b[38;5;124mloan_amnt\u001b[39m\u001b[38;5;124m'\u001b[39m : \u001b[38;5;124m'\u001b[39m\u001b[38;5;124mfloat\u001b[39m\u001b[38;5;124m'\u001b[39m\n\u001b[0;32m      7\u001b[0m })\n\u001b[0;32m      9\u001b[0m \u001b[38;5;66;03m# Convert term column to int type\u001b[39;00m\n\u001b[1;32m---> 10\u001b[0m loan[\u001b[38;5;124m'\u001b[39m\u001b[38;5;124mterm\u001b[39m\u001b[38;5;124m'\u001b[39m] \u001b[38;5;241m=\u001b[39m loan[\u001b[38;5;124m'\u001b[39m\u001b[38;5;124mterm\u001b[39m\u001b[38;5;124m'\u001b[39m]\u001b[38;5;241m.\u001b[39mapply(\u001b[38;5;28;01mlambda\u001b[39;00m x: \u001b[38;5;28mint\u001b[39m(x\u001b[38;5;241m.\u001b[39mreplace(\u001b[38;5;124m'\u001b[39m\u001b[38;5;124mmonths\u001b[39m\u001b[38;5;124m'\u001b[39m, \u001b[38;5;124m'\u001b[39m\u001b[38;5;124m'\u001b[39m)\u001b[38;5;241m.\u001b[39mstrip()))\n\u001b[0;32m     12\u001b[0m \u001b[38;5;66;03m# Convert int_rate column to float type\u001b[39;00m\n\u001b[0;32m     13\u001b[0m loan[\u001b[38;5;124m'\u001b[39m\u001b[38;5;124mint_rate\u001b[39m\u001b[38;5;124m'\u001b[39m] \u001b[38;5;241m=\u001b[39m loan[\u001b[38;5;124m'\u001b[39m\u001b[38;5;124mint_rate\u001b[39m\u001b[38;5;124m'\u001b[39m]\u001b[38;5;241m.\u001b[39mapply(\u001b[38;5;28;01mlambda\u001b[39;00m x: \u001b[38;5;28mfloat\u001b[39m(x\u001b[38;5;241m.\u001b[39mreplace(\u001b[38;5;124m'\u001b[39m\u001b[38;5;124m%\u001b[39m\u001b[38;5;124m'\u001b[39m, \u001b[38;5;124m'\u001b[39m\u001b[38;5;124m'\u001b[39m)\u001b[38;5;241m.\u001b[39mstrip()))\n",
      "File \u001b[1;32m~\\AppData\\Local\\anaconda3\\Lib\\site-packages\\pandas\\core\\series.py:4764\u001b[0m, in \u001b[0;36mSeries.apply\u001b[1;34m(self, func, convert_dtype, args, by_row, **kwargs)\u001b[0m\n\u001b[0;32m   4629\u001b[0m \u001b[38;5;28;01mdef\u001b[39;00m \u001b[38;5;21mapply\u001b[39m(\n\u001b[0;32m   4630\u001b[0m     \u001b[38;5;28mself\u001b[39m,\n\u001b[0;32m   4631\u001b[0m     func: AggFuncType,\n\u001b[1;32m   (...)\u001b[0m\n\u001b[0;32m   4636\u001b[0m     \u001b[38;5;241m*\u001b[39m\u001b[38;5;241m*\u001b[39mkwargs,\n\u001b[0;32m   4637\u001b[0m ) \u001b[38;5;241m-\u001b[39m\u001b[38;5;241m>\u001b[39m DataFrame \u001b[38;5;241m|\u001b[39m Series:\n\u001b[0;32m   4638\u001b[0m \u001b[38;5;250m    \u001b[39m\u001b[38;5;124;03m\"\"\"\u001b[39;00m\n\u001b[0;32m   4639\u001b[0m \u001b[38;5;124;03m    Invoke function on values of Series.\u001b[39;00m\n\u001b[0;32m   4640\u001b[0m \n\u001b[1;32m   (...)\u001b[0m\n\u001b[0;32m   4755\u001b[0m \u001b[38;5;124;03m    dtype: float64\u001b[39;00m\n\u001b[0;32m   4756\u001b[0m \u001b[38;5;124;03m    \"\"\"\u001b[39;00m\n\u001b[0;32m   4757\u001b[0m     \u001b[38;5;28;01mreturn\u001b[39;00m SeriesApply(\n\u001b[0;32m   4758\u001b[0m         \u001b[38;5;28mself\u001b[39m,\n\u001b[0;32m   4759\u001b[0m         func,\n\u001b[0;32m   4760\u001b[0m         convert_dtype\u001b[38;5;241m=\u001b[39mconvert_dtype,\n\u001b[0;32m   4761\u001b[0m         by_row\u001b[38;5;241m=\u001b[39mby_row,\n\u001b[0;32m   4762\u001b[0m         args\u001b[38;5;241m=\u001b[39margs,\n\u001b[0;32m   4763\u001b[0m         kwargs\u001b[38;5;241m=\u001b[39mkwargs,\n\u001b[1;32m-> 4764\u001b[0m     )\u001b[38;5;241m.\u001b[39mapply()\n",
      "File \u001b[1;32m~\\AppData\\Local\\anaconda3\\Lib\\site-packages\\pandas\\core\\apply.py:1209\u001b[0m, in \u001b[0;36mSeriesApply.apply\u001b[1;34m(self)\u001b[0m\n\u001b[0;32m   1206\u001b[0m     \u001b[38;5;28;01mreturn\u001b[39;00m \u001b[38;5;28mself\u001b[39m\u001b[38;5;241m.\u001b[39mapply_compat()\n\u001b[0;32m   1208\u001b[0m \u001b[38;5;66;03m# self.func is Callable\u001b[39;00m\n\u001b[1;32m-> 1209\u001b[0m \u001b[38;5;28;01mreturn\u001b[39;00m \u001b[38;5;28mself\u001b[39m\u001b[38;5;241m.\u001b[39mapply_standard()\n",
      "File \u001b[1;32m~\\AppData\\Local\\anaconda3\\Lib\\site-packages\\pandas\\core\\apply.py:1289\u001b[0m, in \u001b[0;36mSeriesApply.apply_standard\u001b[1;34m(self)\u001b[0m\n\u001b[0;32m   1283\u001b[0m \u001b[38;5;66;03m# row-wise access\u001b[39;00m\n\u001b[0;32m   1284\u001b[0m \u001b[38;5;66;03m# apply doesn't have a `na_action` keyword and for backward compat reasons\u001b[39;00m\n\u001b[0;32m   1285\u001b[0m \u001b[38;5;66;03m# we need to give `na_action=\"ignore\"` for categorical data.\u001b[39;00m\n\u001b[0;32m   1286\u001b[0m \u001b[38;5;66;03m# TODO: remove the `na_action=\"ignore\"` when that default has been changed in\u001b[39;00m\n\u001b[0;32m   1287\u001b[0m \u001b[38;5;66;03m#  Categorical (GH51645).\u001b[39;00m\n\u001b[0;32m   1288\u001b[0m action \u001b[38;5;241m=\u001b[39m \u001b[38;5;124m\"\u001b[39m\u001b[38;5;124mignore\u001b[39m\u001b[38;5;124m\"\u001b[39m \u001b[38;5;28;01mif\u001b[39;00m \u001b[38;5;28misinstance\u001b[39m(obj\u001b[38;5;241m.\u001b[39mdtype, CategoricalDtype) \u001b[38;5;28;01melse\u001b[39;00m \u001b[38;5;28;01mNone\u001b[39;00m\n\u001b[1;32m-> 1289\u001b[0m mapped \u001b[38;5;241m=\u001b[39m obj\u001b[38;5;241m.\u001b[39m_map_values(\n\u001b[0;32m   1290\u001b[0m     mapper\u001b[38;5;241m=\u001b[39mcurried, na_action\u001b[38;5;241m=\u001b[39maction, convert\u001b[38;5;241m=\u001b[39m\u001b[38;5;28mself\u001b[39m\u001b[38;5;241m.\u001b[39mconvert_dtype\n\u001b[0;32m   1291\u001b[0m )\n\u001b[0;32m   1293\u001b[0m \u001b[38;5;28;01mif\u001b[39;00m \u001b[38;5;28mlen\u001b[39m(mapped) \u001b[38;5;129;01mand\u001b[39;00m \u001b[38;5;28misinstance\u001b[39m(mapped[\u001b[38;5;241m0\u001b[39m], ABCSeries):\n\u001b[0;32m   1294\u001b[0m     \u001b[38;5;66;03m# GH#43986 Need to do list(mapped) in order to get treated as nested\u001b[39;00m\n\u001b[0;32m   1295\u001b[0m     \u001b[38;5;66;03m#  See also GH#25959 regarding EA support\u001b[39;00m\n\u001b[0;32m   1296\u001b[0m     \u001b[38;5;28;01mreturn\u001b[39;00m obj\u001b[38;5;241m.\u001b[39m_constructor_expanddim(\u001b[38;5;28mlist\u001b[39m(mapped), index\u001b[38;5;241m=\u001b[39mobj\u001b[38;5;241m.\u001b[39mindex)\n",
      "File \u001b[1;32m~\\AppData\\Local\\anaconda3\\Lib\\site-packages\\pandas\\core\\base.py:921\u001b[0m, in \u001b[0;36mIndexOpsMixin._map_values\u001b[1;34m(self, mapper, na_action, convert)\u001b[0m\n\u001b[0;32m    918\u001b[0m \u001b[38;5;28;01mif\u001b[39;00m \u001b[38;5;28misinstance\u001b[39m(arr, ExtensionArray):\n\u001b[0;32m    919\u001b[0m     \u001b[38;5;28;01mreturn\u001b[39;00m arr\u001b[38;5;241m.\u001b[39mmap(mapper, na_action\u001b[38;5;241m=\u001b[39mna_action)\n\u001b[1;32m--> 921\u001b[0m \u001b[38;5;28;01mreturn\u001b[39;00m algorithms\u001b[38;5;241m.\u001b[39mmap_array(arr, mapper, na_action\u001b[38;5;241m=\u001b[39mna_action, convert\u001b[38;5;241m=\u001b[39mconvert)\n",
      "File \u001b[1;32m~\\AppData\\Local\\anaconda3\\Lib\\site-packages\\pandas\\core\\algorithms.py:1814\u001b[0m, in \u001b[0;36mmap_array\u001b[1;34m(arr, mapper, na_action, convert)\u001b[0m\n\u001b[0;32m   1812\u001b[0m values \u001b[38;5;241m=\u001b[39m arr\u001b[38;5;241m.\u001b[39mastype(\u001b[38;5;28mobject\u001b[39m, copy\u001b[38;5;241m=\u001b[39m\u001b[38;5;28;01mFalse\u001b[39;00m)\n\u001b[0;32m   1813\u001b[0m \u001b[38;5;28;01mif\u001b[39;00m na_action \u001b[38;5;129;01mis\u001b[39;00m \u001b[38;5;28;01mNone\u001b[39;00m:\n\u001b[1;32m-> 1814\u001b[0m     \u001b[38;5;28;01mreturn\u001b[39;00m lib\u001b[38;5;241m.\u001b[39mmap_infer(values, mapper, convert\u001b[38;5;241m=\u001b[39mconvert)\n\u001b[0;32m   1815\u001b[0m \u001b[38;5;28;01melse\u001b[39;00m:\n\u001b[0;32m   1816\u001b[0m     \u001b[38;5;28;01mreturn\u001b[39;00m lib\u001b[38;5;241m.\u001b[39mmap_infer_mask(\n\u001b[0;32m   1817\u001b[0m         values, mapper, mask\u001b[38;5;241m=\u001b[39misna(values)\u001b[38;5;241m.\u001b[39mview(np\u001b[38;5;241m.\u001b[39muint8), convert\u001b[38;5;241m=\u001b[39mconvert\n\u001b[0;32m   1818\u001b[0m     )\n",
      "File \u001b[1;32mlib.pyx:2926\u001b[0m, in \u001b[0;36mpandas._libs.lib.map_infer\u001b[1;34m()\u001b[0m\n",
      "Cell \u001b[1;32mIn[18], line 10\u001b[0m, in \u001b[0;36m<lambda>\u001b[1;34m(x)\u001b[0m\n\u001b[0;32m      2\u001b[0m loan \u001b[38;5;241m=\u001b[39m loan\u001b[38;5;241m.\u001b[39mastype({\n\u001b[0;32m      3\u001b[0m     \u001b[38;5;124m'\u001b[39m\u001b[38;5;124mdti\u001b[39m\u001b[38;5;124m'\u001b[39m: \u001b[38;5;124m'\u001b[39m\u001b[38;5;124mfloat\u001b[39m\u001b[38;5;124m'\u001b[39m,\n\u001b[0;32m      4\u001b[0m     \u001b[38;5;124m'\u001b[39m\u001b[38;5;124mfunded_amnt\u001b[39m\u001b[38;5;124m'\u001b[39m : \u001b[38;5;124m'\u001b[39m\u001b[38;5;124mfloat\u001b[39m\u001b[38;5;124m'\u001b[39m,\n\u001b[0;32m      5\u001b[0m     \u001b[38;5;124m'\u001b[39m\u001b[38;5;124mfunded_amnt_inv\u001b[39m\u001b[38;5;124m'\u001b[39m : \u001b[38;5;124m'\u001b[39m\u001b[38;5;124mfloat\u001b[39m\u001b[38;5;124m'\u001b[39m,\n\u001b[0;32m      6\u001b[0m     \u001b[38;5;124m'\u001b[39m\u001b[38;5;124mloan_amnt\u001b[39m\u001b[38;5;124m'\u001b[39m : \u001b[38;5;124m'\u001b[39m\u001b[38;5;124mfloat\u001b[39m\u001b[38;5;124m'\u001b[39m\n\u001b[0;32m      7\u001b[0m })\n\u001b[0;32m      9\u001b[0m \u001b[38;5;66;03m# Convert term column to int type\u001b[39;00m\n\u001b[1;32m---> 10\u001b[0m loan[\u001b[38;5;124m'\u001b[39m\u001b[38;5;124mterm\u001b[39m\u001b[38;5;124m'\u001b[39m] \u001b[38;5;241m=\u001b[39m loan[\u001b[38;5;124m'\u001b[39m\u001b[38;5;124mterm\u001b[39m\u001b[38;5;124m'\u001b[39m]\u001b[38;5;241m.\u001b[39mapply(\u001b[38;5;28;01mlambda\u001b[39;00m x: \u001b[38;5;28mint\u001b[39m(x\u001b[38;5;241m.\u001b[39mreplace(\u001b[38;5;124m'\u001b[39m\u001b[38;5;124mmonths\u001b[39m\u001b[38;5;124m'\u001b[39m, \u001b[38;5;124m'\u001b[39m\u001b[38;5;124m'\u001b[39m)\u001b[38;5;241m.\u001b[39mstrip()))\n\u001b[0;32m     12\u001b[0m \u001b[38;5;66;03m# Convert int_rate column to float type\u001b[39;00m\n\u001b[0;32m     13\u001b[0m loan[\u001b[38;5;124m'\u001b[39m\u001b[38;5;124mint_rate\u001b[39m\u001b[38;5;124m'\u001b[39m] \u001b[38;5;241m=\u001b[39m loan[\u001b[38;5;124m'\u001b[39m\u001b[38;5;124mint_rate\u001b[39m\u001b[38;5;124m'\u001b[39m]\u001b[38;5;241m.\u001b[39mapply(\u001b[38;5;28;01mlambda\u001b[39;00m x: \u001b[38;5;28mfloat\u001b[39m(x\u001b[38;5;241m.\u001b[39mreplace(\u001b[38;5;124m'\u001b[39m\u001b[38;5;124m%\u001b[39m\u001b[38;5;124m'\u001b[39m, \u001b[38;5;124m'\u001b[39m\u001b[38;5;124m'\u001b[39m)\u001b[38;5;241m.\u001b[39mstrip()))\n",
      "\u001b[1;31mAttributeError\u001b[0m: 'int' object has no attribute 'replace'"
     ]
    }
   ],
   "source": [
    "# Data Type Conversion\n",
    "loan = loan.astype({\n",
    "    'dti': 'float',\n",
    "    'funded_amnt' : 'float',\n",
    "    'funded_amnt_inv' : 'float',\n",
    "    'loan_amnt' : 'float'\n",
    "})\n",
    "\n",
    "# Convert term column to int type\n",
    "loan['term'] = loan['term'].apply(lambda x: int(x.replace('months', '').strip()))\n",
    "\n",
    "# Convert int_rate column to float type\n",
    "loan['int_rate'] = loan['int_rate'].apply(lambda x: float(x.replace('%', '').strip()))\n",
    "\n",
    "# Rounding of the values of below columns to two decimal places\n",
    "for col in ['loan_amnt', 'funded_amnt', 'funded_amnt_inv', 'int_rate', 'dti']:\n",
    "    loan[col] = loan[col].apply(lambda x: round(x, 2))\n"
   ]
  },
  {
   "cell_type": "code",
   "execution_count": null,
   "id": "494eb18c-f225-44ab-bb07-3428c7f3afff",
   "metadata": {},
   "outputs": [],
   "source": []
  }
 ],
 "metadata": {
  "kernelspec": {
   "display_name": "Python 3 (ipykernel)",
   "language": "python",
   "name": "python3"
  },
  "language_info": {
   "codemirror_mode": {
    "name": "ipython",
    "version": 3
   },
   "file_extension": ".py",
   "mimetype": "text/x-python",
   "name": "python",
   "nbconvert_exporter": "python",
   "pygments_lexer": "ipython3",
   "version": "3.11.7"
  }
 },
 "nbformat": 4,
 "nbformat_minor": 5
}
